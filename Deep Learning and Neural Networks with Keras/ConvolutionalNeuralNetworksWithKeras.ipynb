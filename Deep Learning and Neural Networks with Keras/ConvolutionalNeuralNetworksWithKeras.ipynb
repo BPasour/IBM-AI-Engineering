{
 "cells": [
  {
   "cell_type": "markdown",
   "metadata": {},
   "source": [
    "Build a convolutional neural network to analyze handwriting dataset, and compare its performance to a conventional neural network"
   ]
  },
  {
   "cell_type": "code",
   "execution_count": 4,
   "metadata": {},
   "outputs": [],
   "source": [
    "import keras\n",
    "from keras.models import Sequential\n",
    "from keras.layers import Dense\n",
    "from keras.utils import to_categorical"
   ]
  },
  {
   "cell_type": "code",
   "execution_count": 6,
   "metadata": {},
   "outputs": [],
   "source": [
    "from keras.layers import Conv2D # to add convolutional layers\n",
    "from keras.layers import MaxPooling2D # to add pooling layers\n",
    "from keras.layers import Flatten # to flatten data for fully connected layers"
   ]
  },
  {
   "cell_type": "markdown",
   "metadata": {},
   "source": [
    "Import and prepare the data"
   ]
  },
  {
   "cell_type": "code",
   "execution_count": 7,
   "metadata": {},
   "outputs": [],
   "source": [
    "# import data\n",
    "from keras.datasets import mnist\n",
    "\n",
    "# load data\n",
    "(X_train, y_train), (X_test, y_test) = mnist.load_data()\n",
    "\n",
    "# reshape to be [samples][pixels][width][height]\n",
    "X_train = X_train.reshape(X_train.shape[0], 28, 28, 1).astype('float32')\n",
    "X_test = X_test.reshape(X_test.shape[0], 28, 28, 1).astype('float32')"
   ]
  },
  {
   "cell_type": "code",
   "execution_count": 8,
   "metadata": {},
   "outputs": [],
   "source": [
    "X_train = X_train / 255 # normalize training data\n",
    "X_test = X_test / 255 # normalize test data"
   ]
  },
  {
   "cell_type": "markdown",
   "metadata": {},
   "source": [
    "Generate columns for target categories in dataset"
   ]
  },
  {
   "cell_type": "code",
   "execution_count": 9,
   "metadata": {},
   "outputs": [],
   "source": [
    "y_train = to_categorical(y_train)\n",
    "y_test = to_categorical(y_test)\n",
    "\n",
    "num_classes = y_test.shape[1] # number of categories"
   ]
  },
  {
   "cell_type": "markdown",
   "metadata": {},
   "source": [
    "Build a model with one set of convolution and pooling layers"
   ]
  },
  {
   "cell_type": "code",
   "execution_count": 10,
   "metadata": {},
   "outputs": [],
   "source": [
    "def convolutional_model():\n",
    "    \n",
    "    # create model\n",
    "    model = Sequential()\n",
    "    model.add(Conv2D(16, (5, 5), strides=(1, 1), activation='relu', input_shape=(28, 28, 1)))\n",
    "    model.add(MaxPooling2D(pool_size=(2, 2), strides=(2, 2)))\n",
    "    \n",
    "    model.add(Flatten())\n",
    "    model.add(Dense(100, activation='relu'))\n",
    "    model.add(Dense(num_classes, activation='softmax'))\n",
    "    \n",
    "    # compile model\n",
    "    model.compile(optimizer='adam', loss='categorical_crossentropy',  metrics=['accuracy'])\n",
    "    return model"
   ]
  },
  {
   "cell_type": "code",
   "execution_count": 11,
   "metadata": {},
   "outputs": [
    {
     "name": "stdout",
     "output_type": "stream",
     "text": [
      "WARNING:tensorflow:From c:\\Python311\\Lib\\site-packages\\keras\\src\\backend.py:873: The name tf.get_default_graph is deprecated. Please use tf.compat.v1.get_default_graph instead.\n",
      "\n",
      "WARNING:tensorflow:From c:\\Python311\\Lib\\site-packages\\keras\\src\\layers\\pooling\\max_pooling2d.py:161: The name tf.nn.max_pool is deprecated. Please use tf.nn.max_pool2d instead.\n",
      "\n",
      "WARNING:tensorflow:From c:\\Python311\\Lib\\site-packages\\keras\\src\\optimizers\\__init__.py:309: The name tf.train.Optimizer is deprecated. Please use tf.compat.v1.train.Optimizer instead.\n",
      "\n",
      "Epoch 1/10\n",
      "WARNING:tensorflow:From c:\\Python311\\Lib\\site-packages\\keras\\src\\utils\\tf_utils.py:492: The name tf.ragged.RaggedTensorValue is deprecated. Please use tf.compat.v1.ragged.RaggedTensorValue instead.\n",
      "\n",
      "WARNING:tensorflow:From c:\\Python311\\Lib\\site-packages\\keras\\src\\engine\\base_layer_utils.py:384: The name tf.executing_eagerly_outside_functions is deprecated. Please use tf.compat.v1.executing_eagerly_outside_functions instead.\n",
      "\n",
      "300/300 - 12s - loss: 0.2756 - accuracy: 0.9261 - val_loss: 0.0874 - val_accuracy: 0.9741 - 12s/epoch - 42ms/step\n",
      "Epoch 2/10\n",
      "300/300 - 13s - loss: 0.0783 - accuracy: 0.9774 - val_loss: 0.0563 - val_accuracy: 0.9822 - 13s/epoch - 43ms/step\n",
      "Epoch 3/10\n",
      "300/300 - 16s - loss: 0.0545 - accuracy: 0.9837 - val_loss: 0.0479 - val_accuracy: 0.9836 - 16s/epoch - 53ms/step\n",
      "Epoch 4/10\n",
      "300/300 - 15s - loss: 0.0422 - accuracy: 0.9874 - val_loss: 0.0423 - val_accuracy: 0.9845 - 15s/epoch - 50ms/step\n",
      "Epoch 5/10\n",
      "300/300 - 16s - loss: 0.0341 - accuracy: 0.9897 - val_loss: 0.0392 - val_accuracy: 0.9875 - 16s/epoch - 55ms/step\n",
      "Epoch 6/10\n",
      "300/300 - 18s - loss: 0.0282 - accuracy: 0.9913 - val_loss: 0.0362 - val_accuracy: 0.9879 - 18s/epoch - 61ms/step\n",
      "Epoch 7/10\n",
      "300/300 - 18s - loss: 0.0236 - accuracy: 0.9926 - val_loss: 0.0426 - val_accuracy: 0.9864 - 18s/epoch - 58ms/step\n",
      "Epoch 8/10\n",
      "300/300 - 20s - loss: 0.0192 - accuracy: 0.9941 - val_loss: 0.0382 - val_accuracy: 0.9876 - 20s/epoch - 68ms/step\n",
      "Epoch 9/10\n",
      "300/300 - 16s - loss: 0.0161 - accuracy: 0.9952 - val_loss: 0.0376 - val_accuracy: 0.9886 - 16s/epoch - 53ms/step\n",
      "Epoch 10/10\n",
      "300/300 - 17s - loss: 0.0145 - accuracy: 0.9955 - val_loss: 0.0386 - val_accuracy: 0.9875 - 17s/epoch - 55ms/step\n",
      "Accuracy: 0.987500011920929 \n",
      " Error: 1.2499988079071045\n"
     ]
    }
   ],
   "source": [
    "# build the model\n",
    "model = convolutional_model()\n",
    "\n",
    "# fit the model\n",
    "model.fit(X_train, y_train, validation_data=(X_test, y_test), epochs=10, batch_size=200, verbose=2)\n",
    "\n",
    "# evaluate the model\n",
    "scores = model.evaluate(X_test, y_test, verbose=0)\n",
    "print(\"Accuracy: {} \\n Error: {}\".format(scores[1], 100-scores[1]*100))"
   ]
  },
  {
   "cell_type": "markdown",
   "metadata": {},
   "source": [
    "Build new model with two convolutional and pooling layers"
   ]
  },
  {
   "cell_type": "code",
   "execution_count": 12,
   "metadata": {},
   "outputs": [],
   "source": [
    "def convolutional_model():\n",
    "    \n",
    "    # create model\n",
    "    model = Sequential()\n",
    "    model.add(Conv2D(16, (5, 5), activation='relu', input_shape=(28, 28, 1)))\n",
    "    model.add(MaxPooling2D(pool_size=(2, 2), strides=(2, 2)))\n",
    "    \n",
    "    model.add(Conv2D(8, (2, 2), activation='relu'))\n",
    "    model.add(MaxPooling2D(pool_size=(2, 2), strides=(2, 2)))\n",
    "    \n",
    "    model.add(Flatten())\n",
    "    model.add(Dense(100, activation='relu'))\n",
    "    model.add(Dense(num_classes, activation='softmax'))\n",
    "    \n",
    "    # Compile model\n",
    "    model.compile(optimizer='adam', loss='categorical_crossentropy',  metrics=['accuracy'])\n",
    "    return model"
   ]
  },
  {
   "cell_type": "code",
   "execution_count": 13,
   "metadata": {},
   "outputs": [
    {
     "name": "stdout",
     "output_type": "stream",
     "text": [
      "Epoch 1/10\n",
      "300/300 - 24s - loss: 0.5136 - accuracy: 0.8516 - val_loss: 0.1722 - val_accuracy: 0.9484 - 24s/epoch - 81ms/step\n",
      "Epoch 2/10\n",
      "300/300 - 28s - loss: 0.1404 - accuracy: 0.9578 - val_loss: 0.0937 - val_accuracy: 0.9710 - 28s/epoch - 93ms/step\n",
      "Epoch 3/10\n",
      "300/300 - 31s - loss: 0.0986 - accuracy: 0.9704 - val_loss: 0.0724 - val_accuracy: 0.9775 - 31s/epoch - 103ms/step\n",
      "Epoch 4/10\n",
      "300/300 - 35s - loss: 0.0796 - accuracy: 0.9756 - val_loss: 0.0655 - val_accuracy: 0.9795 - 35s/epoch - 116ms/step\n",
      "Epoch 5/10\n",
      "300/300 - 37s - loss: 0.0686 - accuracy: 0.9788 - val_loss: 0.0597 - val_accuracy: 0.9814 - 37s/epoch - 124ms/step\n",
      "Epoch 6/10\n",
      "300/300 - 37s - loss: 0.0582 - accuracy: 0.9824 - val_loss: 0.0586 - val_accuracy: 0.9816 - 37s/epoch - 124ms/step\n",
      "Epoch 7/10\n",
      "300/300 - 39s - loss: 0.0529 - accuracy: 0.9841 - val_loss: 0.0493 - val_accuracy: 0.9843 - 39s/epoch - 129ms/step\n",
      "Epoch 8/10\n",
      "300/300 - 47s - loss: 0.0476 - accuracy: 0.9857 - val_loss: 0.0482 - val_accuracy: 0.9839 - 47s/epoch - 158ms/step\n",
      "Epoch 9/10\n",
      "300/300 - 50s - loss: 0.0451 - accuracy: 0.9861 - val_loss: 0.0461 - val_accuracy: 0.9856 - 50s/epoch - 168ms/step\n",
      "Epoch 10/10\n",
      "300/300 - 46s - loss: 0.0398 - accuracy: 0.9882 - val_loss: 0.0478 - val_accuracy: 0.9851 - 46s/epoch - 155ms/step\n",
      "Accuracy: 0.9850999712944031 \n",
      " Error: 1.4900028705596924\n"
     ]
    }
   ],
   "source": [
    "# build the model\n",
    "model = convolutional_model()\n",
    "\n",
    "# fit the model\n",
    "model.fit(X_train, y_train, validation_data=(X_test, y_test), epochs=10, batch_size=200, verbose=2)\n",
    "\n",
    "# evaluate the model\n",
    "scores = model.evaluate(X_test, y_test, verbose=0)\n",
    "print(\"Accuracy: {} \\n Error: {}\".format(scores[1], 100-scores[1]*100))"
   ]
  },
  {
   "cell_type": "markdown",
   "metadata": {},
   "source": [
    "In this case, the extra layers added compute time but did not increase performance. The conventional network in the Classification Models notebook had a lower accuracy score, at 0.980, and a higher error, at 2.00"
   ]
  },
  {
   "cell_type": "code",
   "execution_count": null,
   "metadata": {},
   "outputs": [],
   "source": []
  }
 ],
 "metadata": {
  "kernelspec": {
   "display_name": "Python 3",
   "language": "python",
   "name": "python3"
  },
  "language_info": {
   "codemirror_mode": {
    "name": "ipython",
    "version": 3
   },
   "file_extension": ".py",
   "mimetype": "text/x-python",
   "name": "python",
   "nbconvert_exporter": "python",
   "pygments_lexer": "ipython3",
   "version": "3.11.3"
  }
 },
 "nbformat": 4,
 "nbformat_minor": 2
}
